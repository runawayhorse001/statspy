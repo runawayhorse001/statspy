{
 "cells": [
  {
   "cell_type": "code",
   "execution_count": 3,
   "metadata": {
    "collapsed": true
   },
   "outputs": [],
   "source": [
    "def student_test(samples, prec, confidence=0.9):\n",
    "    \"\"\"\n",
    "    Student's t-test.\n",
    "\n",
    "    Parameters\n",
    "    ----------\n",
    "    samples : list\n",
    "        List of numbers generated from your stochastic process.\n",
    "    prec : scalar\n",
    "        Desired distance between the empirical and real mean.\n",
    "    confidence : scalar\n",
    "        Desired probability of correct answer.\n",
    "\n",
    "    Returns\n",
    "    -------\n",
    "    result : bool\n",
    "        True if and only if your samples pass Student's t-test.\n",
    "    \"\"\"\n",
    "    assert 0. < confidence < 1.\n",
    "    n = len(samples)\n",
    "    sigma = std(samples)\n",
    "    quantile = stats.t.ppf(confidence, n - 1)\n",
    "    return quantile * sigma / sqrt(n) < prec"
   ]
  },
  {
   "cell_type": "code",
   "execution_count": 2,
   "metadata": {
    "collapsed": true
   },
   "outputs": [],
   "source": [
    "def run_until_good_mean_estimate(f):\n",
    "    \"\"\"\n",
    "    Generate samples from a stochastic process `f` until there are enough\n",
    "    samples to provide a good estimate of the mean of ``f()``.\n",
    "\n",
    "    Parameters\n",
    "    ----------\n",
    "    f : function\n",
    "        Function with no argument returning a real number.\n",
    "\n",
    "    Returns\n",
    "    -------\n",
    "    samples : list\n",
    "        List of return values from the stochastic process.\n",
    "    \"\"\"\n",
    "    prec, samples = 1., []\n",
    "    while not student_test(samples, prec):\n",
    "        samples.append(f())\n",
    "        mu = numpy.mean(samples)\n",
    "        prec = mu / 100.\n",
    "    print \"Mean f(): %.2f +/- %.2f\" % (mu, prec)\n",
    "    return samples"
   ]
  },
  {
   "cell_type": "code",
   "execution_count": 6,
   "metadata": {
    "collapsed": false
   },
   "outputs": [
    {
     "data": {
      "text/plain": [
       "Ttest_1sampResult(statistic=3.872983346207417, pvalue=0.030466291662170977)"
      ]
     },
     "execution_count": 6,
     "metadata": {},
     "output_type": "execute_result"
    }
   ],
   "source": [
    "from scipy import stats\n",
    "y = [1,2,3,4]\n",
    "stats.ttest_1samp(y,0.0)"
   ]
  },
  {
   "cell_type": "code",
   "execution_count": null,
   "metadata": {
    "collapsed": true
   },
   "outputs": [],
   "source": []
  }
 ],
 "metadata": {
  "kernelspec": {
   "display_name": "Python 2",
   "language": "python",
   "name": "python2"
  },
  "language_info": {
   "codemirror_mode": {
    "name": "ipython",
    "version": 2
   },
   "file_extension": ".py",
   "mimetype": "text/x-python",
   "name": "python",
   "nbconvert_exporter": "python",
   "pygments_lexer": "ipython2",
   "version": "2.7.6"
  }
 },
 "nbformat": 4,
 "nbformat_minor": 1
}
