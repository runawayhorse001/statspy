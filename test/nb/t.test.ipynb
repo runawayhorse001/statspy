{
 "cells": [
  {
   "cell_type": "code",
   "execution_count": 3,
   "metadata": {
    "collapsed": true
   },
   "outputs": [],
   "source": [
    "def student_test(samples, prec, confidence=0.9):\n",
    "    \"\"\"\n",
    "    Student's t-test.\n",
    "\n",
    "    Parameters\n",
    "    ----------\n",
    "    samples : list\n",
    "        List of numbers generated from your stochastic process.\n",
    "    prec : scalar\n",
    "        Desired distance between the empirical and real mean.\n",
    "    confidence : scalar\n",
    "        Desired probability of correct answer.\n",
    "\n",
    "    Returns\n",
    "    -------\n",
    "    result : bool\n",
    "        True if and only if your samples pass Student's t-test.\n",
    "    \"\"\"\n",
    "    assert 0. < confidence < 1.\n",
    "    n = len(samples)\n",
    "    sigma = std(samples)\n",
    "    quantile = stats.t.ppf(confidence, n - 1)\n",
    "    return quantile * sigma / sqrt(n) < prec"
   ]
  },
  {
   "cell_type": "code",
   "execution_count": 2,
   "metadata": {
    "collapsed": true
   },
   "outputs": [],
   "source": [
    "def run_until_good_mean_estimate(f):\n",
    "    \"\"\"\n",
    "    Generate samples from a stochastic process `f` until there are enough\n",
    "    samples to provide a good estimate of the mean of ``f()``.\n",
    "\n",
    "    Parameters\n",
    "    ----------\n",
    "    f : function\n",
    "        Function with no argument returning a real number.\n",
    "\n",
    "    Returns\n",
    "    -------\n",
    "    samples : list\n",
    "        List of return values from the stochastic process.\n",
    "    \"\"\"\n",
    "    prec, samples = 1., []\n",
    "    while not student_test(samples, prec):\n",
    "        samples.append(f())\n",
    "        mu = numpy.mean(samples)\n",
    "        prec = mu / 100.\n",
    "    print \"Mean f(): %.2f +/- %.2f\" % (mu, prec)\n",
    "    return samples"
   ]
  },
  {
   "cell_type": "code",
   "execution_count": 28,
   "metadata": {},
   "outputs": [
    {
     "data": {
      "text/plain": [
       "1.118033988749895"
      ]
     },
     "execution_count": 28,
     "metadata": {},
     "output_type": "execute_result"
    }
   ],
   "source": [
    "import numpy as np\n",
    "np.std(y)"
   ]
  },
  {
   "cell_type": "code",
   "execution_count": 35,
   "metadata": {},
   "outputs": [
    {
     "name": "stdout",
     "output_type": "stream",
     "text": [
      "\n",
      "----------------------------------------\n",
      "#   One Sample t-test\n",
      "# data:  [1, 2, 3, 4]\n",
      "# t = 3.872983346207417, df = 3, p-value = 0.030466291662170977\n",
      "# alternative hypothesis: true mean is not equal to 0.0\n",
      "# 95 percent confidence interval:\n",
      "# (0.4457397432391206, 4.554260256760879)\n",
      "----------------------------------------\n",
      "\n"
     ]
    }
   ],
   "source": [
    "import inspect\n",
    "from scipy import stats\n",
    "y = [1,2,3,4]\n",
    "mu = 0.0\n",
    "t , p = stats.ttest_1samp(y,popmean=mu)\n",
    "n = len(y)\n",
    "df = n - 1\n",
    "var =str(y)\n",
    "sigma = np.std(y)/np.sqrt(df)  # Sample stdev/sample size\n",
    "\n",
    "(lower, upper) = stats.t.interval(0.95,  # Confidence level\n",
    "                 df = df,                # Degrees of freedom\n",
    "                 loc = np.mean(y),       # Sample mean\n",
    "                 scale= sigma)           # Standard dev estimate\n",
    "s = f\"\"\"\n",
    "{'-'*40}\n",
    "#   One Sample t-test\n",
    "# data:  {var}\n",
    "# t = {t}, df = {df}, p-value = {p}\n",
    "# alternative hypothesis: true mean is not equal to {mu}\n",
    "# 95 percent confidence interval:\n",
    "# ({lower}, {upper})\n",
    "{'-'*40}\n",
    "\"\"\"\n",
    "\n",
    "print(s)"
   ]
  },
  {
   "cell_type": "code",
   "execution_count": 44,
   "metadata": {},
   "outputs": [],
   "source": [
    "def t_test(x, y=None, mu=0.0, conf_level=0.95):\n",
    "    \"\"\"\n",
    "    Performs one and two sample t-tests on vectors of data.\n",
    "    same functions as t.test in r: rt.test(x, ...)\n",
    "    t.test(x, y = NULL,\n",
    "       alternative = c(\"two.sided\", \"less\", \"greater\"),\n",
    "       mu = 0, paired = FALSE, var.equal = FALSE,\n",
    "       conf.level = 0.95, ...)\n",
    "\n",
    "    :param x: a (non-empty) numeric vector of data values.\n",
    "    :param y: an optional (non-empty) numeric vector of data values.\n",
    "    :param mu: vector of standard deviations.\n",
    "    :param conf_level: confidence level of the interval.    \n",
    "    :return: the vector of the random numbers.  \n",
    "\n",
    "    :author: Wenqiang Feng\n",
    "    :email:  von198@gmail.com\n",
    "    \"\"\"\n",
    "    frame = inspect.currentframe()\n",
    "    frame = inspect.getouterframes(frame)[1]\n",
    "    string = inspect.getframeinfo(frame[0]).code_context[0].strip()\n",
    "    args = string[string.find('(') + 1:-1].split(',')\n",
    "\n",
    "    names = []\n",
    "    for i in args:\n",
    "        if i.find('=') != -1:\n",
    "            names.append(i.split('=')[1].strip())\n",
    "\n",
    "        else:\n",
    "            names.append(i)\n",
    "\n",
    "    #print(names)\n",
    "   \n",
    "    \n",
    "    if y==None:\n",
    "        t , p = stats.ttest_1samp(x,popmean=mu)\n",
    "        n = len(x) # lenth of the the list\n",
    "        df = n-1   # degree of the freedom\n",
    "        sigma = np.std(x)/np.sqrt(df)  # Sample stdev/sample size\n",
    "        (lower, upper) = stats.t.interval(\n",
    "                         0.95,  # Confidence level\n",
    "                         df = df, # Degrees of freedom\n",
    "                         loc = np.mean(x), # Sample mean\n",
    "                         scale= sigma) # Standard dev estimate \n",
    "\n",
    "    s = f\"\"\"\n",
    "    {'-'*80}\n",
    "    #       One Sample t-test\n",
    "    # data:  {names}\n",
    "    # t = {t}, df = {df}, p-value = {p}\n",
    "    # alternative hypothesis: true mean is not equal to {mu}\n",
    "    # {conf_level*100} percent confidence interval:\n",
    "    # {lower}, {upper} \n",
    "    # mean of x \n",
    "    #         {np.mean(x)}\n",
    "    {'-'*80}\n",
    "    \"\"\"\n",
    "    print(s)"
   ]
  },
  {
   "cell_type": "code",
   "execution_count": 45,
   "metadata": {},
   "outputs": [
    {
     "name": "stdout",
     "output_type": "stream",
     "text": [
      "\n",
      "    --------------------------------------------------------------------------------\n",
      "    #       One Sample t-test\n",
      "    # data:  ['y']\n",
      "    # t = 3.872983346207417, df = 3, p-value = 0.030466291662170977\n",
      "    # alternative hypothesis: true mean is not equal to 0.0\n",
      "    # 95.0 percent confidence interval:\n",
      "    # 0.4457397432391206, 4.554260256760879 \n",
      "    # mean of x \n",
      "    #         2.5\n",
      "    --------------------------------------------------------------------------------\n",
      "    \n"
     ]
    }
   ],
   "source": [
    "t_test(y)"
   ]
  },
  {
   "cell_type": "code",
   "execution_count": null,
   "metadata": {},
   "outputs": [],
   "source": []
  }
 ],
 "metadata": {
  "kernelspec": {
   "display_name": "Python 3",
   "language": "python",
   "name": "python3"
  },
  "language_info": {
   "codemirror_mode": {
    "name": "ipython",
    "version": 3
   },
   "file_extension": ".py",
   "mimetype": "text/x-python",
   "name": "python",
   "nbconvert_exporter": "python",
   "pygments_lexer": "ipython3",
   "version": "3.6.6"
  }
 },
 "nbformat": 4,
 "nbformat_minor": 1
}
